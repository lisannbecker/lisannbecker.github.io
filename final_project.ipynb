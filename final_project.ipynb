{
 "cells": [
  {
   "cell_type": "markdown",
   "id": "98a9a5d7",
   "metadata": {},
   "source": [
    "# Final project"
   ]
  },
  {
   "cell_type": "markdown",
   "id": "347c5e30",
   "metadata": {},
   "source": [
    "## Project title"
   ]
  },
  {
   "cell_type": "markdown",
   "id": "437cd6b6",
   "metadata": {},
   "source": [
    "Research Question: Which UvA courses do I meet the entry requirements for? XXX"
   ]
  },
  {
   "cell_type": "markdown",
   "id": "c70c7452",
   "metadata": {},
   "source": [
    "\n",
    "\n",
    "\n",
    "\n",
    "\n",
    "## Process Book"
   ]
  },
  {
   "cell_type": "markdown",
   "id": "6c909a7a",
   "metadata": {},
   "source": [
    "1. Don’t forget the process book. Maintain it every day you’ve worked on the project. This is the main way for \n",
    "   us to see what you’ve learned and is an important part of the evaluation.\n",
    "2. Don’t use it for everything. Don’t spend too much time on your process book! Ten minutes \n",
    "   every day you’ve worked on the project on this, should be more than enough.\n",
    "3. Keep it simple and short. Use simple language, short sentences, and be as straightforward as possible when \n",
    "   documenting your learning process.\n",
    "4. Create a simple template. In order to organize your process book, it is nice to create and use a template:\n"
   ]
  },
  {
   "cell_type": "markdown",
   "id": "fab0e988",
   "metadata": {},
   "source": [
    "### Date of entry: 25. Jan\n",
    "#### What I’ve worked on: \n",
    "Git\n",
    "- Lecture git\n",
    "- Tried out git by myself\n",
    "- Created git repository\n",
    "\n",
    "Project choice\n",
    "- Learn to use tableau and uber data as I am applying to intern at uber and tableau is a desired skill\n",
    "\n",
    "Tableau\n",
    "- Downloaded tableau \n",
    "- See what I can use tableau for to decide which project I want to do specifically\n",
    "- Learn tableau basics\n",
    "- Experiment with DP datasets (e.g., weather data) in tableau\n",
    "- Experiment with uber selection dataset --> too easy (?)\n",
    "    \n",
    "#### What problems I encountered:\n",
    "- Cannot use dataset I first thought about using\n",
    "\n",
    "#### What I learned:\n",
    "- How to use git\n",
    "- Tableau basics https://www.youtube.com/watch?v=jEgVto5QME8\n",
    "- I want to gather my own uber data e.g., through web-scraping, or API\n",
    "\n",
    "#### Which resources did I use:\n",
    "- Course material, YouTube, tableau, tableau user guide, uber data XXX\n",
    "\n",
    "\n",
    "\n",
    "\n",
    "### Date of entry: 26. Jan\n",
    "#### What I’ve worked on: \n",
    "Tableau\n",
    "- Learned more functions of tableau and experimented with these  \n",
    "\n",
    "Project\n",
    "- Created jupyter notebook\n",
    "- Started process book\n",
    "\n",
    "Brainstorm\n",
    "- Potentially make website with tableau dashboard\n",
    "- Which data can I use? \n",
    "\n",
    "Find data\n",
    "- Look for uber APIs\n",
    "\n",
    "#### What problems I encountered: \n",
    "- Uber APIs are not open, I can not use them \n",
    "\n",
    "#### What I learned: \n",
    "Tableau\n",
    "- Basic functions: https://www.youtube.com/watch?v=yejulE4b-3Y\n",
    "- Use and join (csv) files: https://www.youtube.com/watch?v=5WXrJ1JvTOo\n",
    "- Integrate tableau dashboard in website: https://www.youtube.com/watch?v=wJ2CHIJalNU\n",
    "\n",
    "#### Which resources did I use:\n",
    "- Course material, YouTube, tableau, tableau user guide\n",
    "\n",
    "\n",
    "\n",
    "### Date of entry: 27. Jan\n",
    "#### What I’ve worked on: \n",
    "- Find new project ideas\n",
    "- Decided for final topic/Question\n",
    "- Changed strategy for scraping data: work with individual course pages instead of course overview\n",
    "\n",
    "#### What problems I encountered: \n",
    "- Url of studiegids does not change per page of courses\n",
    "\n",
    "#### What I learned: \n",
    "\n",
    "#### Which resources did I use:\n",
    "- Multiple forms to try to solve the url problem, but didn't find a solution\n",
    "\n",
    "\n",
    "\n",
    "\n",
    "### Date of entry: 30. Jan\n",
    "#### What I’ve worked on: \n",
    "\n",
    "#### What problems I encountered: \n",
    "\n",
    "#### What I learned: \n",
    "\n",
    "#### Which resources did I use:"
   ]
  },
  {
   "cell_type": "markdown",
   "id": "cccfb7cb",
   "metadata": {},
   "source": [
    "## To-Do\n",
    "\n",
    "1. Scrape / Transform data \n",
    "2. Import data into tableau\n",
    "3. (Webpage with tableau dashboard)"
   ]
  },
  {
   "cell_type": "markdown",
   "id": "a3792a05",
   "metadata": {},
   "source": [
    "## 1. Data"
   ]
  },
  {
   "cell_type": "markdown",
   "id": "b23eecd3",
   "metadata": {},
   "source": [
    "Relevant personal data\n",
    "\n",
    "Programme: \"\"\n",
    "Level: Bachelor's, Master's (Master's, Master), Exchange programme ('Exchange Programme Exchange Programme UvA', 'Exchange Programme Exchange Programme'), pre-Master's programme, Secondary Subject/Bijvak('?'), 'Honours MSc', 'Research Master's\n",
    "Year of the studies: \"\"\n",
    "Credits obtained this/1st year: \"\"\n",
    "\n",
    "url: https://studiegids.uva.nl/xmlpages/page/2022-2023-en/search-course\n",
    "\n",
    "\n",
    "Relevant course information \n",
    "\n",
    "Course name: Course name\n",
    "Entry requirements: Course > Entry requirements > Split by sentence & look for keywords (if not present, add to dict with unknown entry requirements)\n",
    "Level: Course > Is part of > loop through Level list (s.a.) \n",
    "Field: Course > Is part of > remove Level > everything left \n",
    "(Coordinator name: Course > Lecturer(s) > Coordinator ('co-ordinator')\n",
    "(Coordinator email: Course > Lecturer(s) > Coordinator (crawl) > Email)\n"
   ]
  },
  {
   "cell_type": "code",
   "execution_count": 2,
   "id": "26b99267",
   "metadata": {},
   "outputs": [],
   "source": [
    "from requests import get\n",
    "from requests.exceptions import RequestException\n",
    "from contextlib import closing\n",
    "\n",
    "def simple_get(url):\n",
    "    \"\"\"\n",
    "    Attempts to get the content at `url` by making an HTTP GET request.\n",
    "    If the content-type of response is some kind of HTML/XML, return the\n",
    "    text content, otherwise return None\n",
    "    \"\"\"\n",
    "    try:\n",
    "        headers = {\n",
    "            'User-Agent': 'Mozilla/5.0 (Windows NT 6.1; WOW64) AppleWebKit/537.36 (KHTML, like Gecko) Chrome/56.0.2924.76 Safari/537.36'\n",
    "        }\n",
    "        with closing(get(url, stream=True, headers=headers)) as resp:\n",
    "            if is_good_response(resp):\n",
    "                return resp.content\n",
    "            else:\n",
    "                return None\n",
    "    except RequestException as e:\n",
    "        print('The following error occurred during HTTP GET request to {0} : {1}'.format(url, str(e)))\n",
    "        return None\n",
    "\n",
    "\n",
    "def is_good_response(resp):\n",
    "    \"\"\"\n",
    "    Returns true if the response seems to be HTML, false otherwise\n",
    "    \"\"\"\n",
    "    content_type = resp.headers['Content-Type'].lower()\n",
    "    return (resp.status_code == 200\n",
    "            and content_type is not None\n",
    "            and content_type.find('html') > -1)"
   ]
  },
  {
   "cell_type": "code",
   "execution_count": 10,
   "id": "45e9b958",
   "metadata": {},
   "outputs": [
    {
     "name": "stdout",
     "output_type": "stream",
     "text": [
      "[]\n",
      "b'<!DOCTYPE html>\\n<!--[if lt IE 8]><html class=\"no-js ie7\"><![endif]--><!--[if IE 8]><html class=\"no-js ie8\"><![endif]--><!--[if gt IE 8]><!--><html xml:lang=\"en\" lang=\"en\"><!--<![endif]--><head><script type=\"text/javascript\" src=\"//static.queue-it.net/script/queueclient.min.js\"> </script><script data-queueit-c=\"sans\" type=\"text/javascript\" src=\"//static.queue-it.net/script/queueconfigloader.min.js\"> </script><meta name=\"viewport\" content=\"width=device-width\"/><meta http-equiv=\"X-UA-Compatible\" content=\"IE=Edge,chrome=1\"/><meta http-equiv=\"Content-Type\" content=\"text/html; charset=UTF-8\"/><title>Course | UvA Studiegids 2022 - 2023</title><link href=\"/xmlpages/resources/TXP/uva/studiegidswebsite/img/favicon.png\" rel=\"icon\" type=\"image/png\"/><link href=\"/xmlpages/resources/TXP/uva/studiegidswebsite/css/style.css\" rel=\"stylesheet\" type=\"text/css\"/><link href=\"/xmlpages/resources/TXP/uva/studiegidswebsite/css/mobile.css\" rel=\"stylesheet\" type=\"text/css\"/><!--[if IE]><link rel=\"stylesheet\" href=\"/xmlpages/resources/TXP/uva/studiegidswebsite/css/ie.css?1.17.5\"><![endif]--><link href=\"/xmlpages/resources/TXP/uva/studiegidswebsite/css/sgw-custom.css\" rel=\"stylesheet\" type=\"text/css\"/><script src=\"/xmlpages/resources/TXP/uva/studiegidswebsite/js/modernizr-2.0.6.min.js\"> </script></head><body><header><div id=\"topheader\" class=\"container clearfix\"><div class=\"eight columns\"><h1><a id=\"logo\" href=\"/\"><img src=\"/xmlpages/resources/TXP/uva/studiegidswebsite/img/logo_en.png\" alt=\"Logo\" width=\"301\" height=\"30\"/></a></h1></div></div><nav id=\"topheadernav\" class=\"container clearfix\"><div class=\"sixteen columns\"><a href=\"/xmlpages/page/2022-2023\"><span style=\"margin-right:8px;\">Nederlands</span><img src=\"/xmlpages/resources/TXP/uva/studiegidswebsite/img/globe.png\" alt=\"Nederlands\" class=\"globe\" width=\"16\" height=\"16\"/></a></div></nav><nav class=\"clearfix\" id=\"megadropdown\"><div class=\"container\"><ul class=\"sixteen columns megalist\"><li class=\"megaitem\"><a href=\"http://www.uva.nl\">&lt; UvA Homepage</a></li></ul></div></nav></header><div id=\"main\" role=\"main\" class=\"clearfix\"><div class=\"clearfix background\" style=\"background-image: url(\\'/xmlpages/resources/TXP/uva/studiegidswebsite/img/back-small.jpg\\');\"><nav id=\"breadcrumb\"><div class=\"container clearfix\"><ul><li><a href=\"/xmlpages/page/2022-2023-en\">Start</a></li><li class=\"current\"><a href=\"/xmlpages/page/2022-2023-en/search-course\">Course</a></li></ul> </div></nav></div><header id=\"subheader\" class=\"container clearfix\"><div class=\"columns sixteen\"><div class=\"inner-spacer\"><div class=\"container clearfix\"><div class=\"columns twelve\"><h2>Course Catalogue <div class=\"dropdownmenu first special\" tabindex=\"0\"><span style=\"color:#cc0033;\">2022 - 2023</span><div class=\"menu\"><div class=\"shadow-hide\"> </div><ul class=\"linklist\" role=\"menu\"><li><a href=\"/xmlpages/page/2021-2022-en\">2021 - 2022</a></li><li><a href=\"/xmlpages/page/2020-2021-en\">2020 - 2021</a></li><li><a href=\"/xmlpages/page/2019-2020-en\">2019 - 2020</a></li><li><a href=\"/xmlpages/page/2018-2019-en\">2018 - 2019</a></li><li><a href=\"/xmlpages/page/2017-2018-en\">2017 - 2018</a></li><li><a href=\"/xmlpages/page/2016-2017-en\">2016 - 2017</a></li><li><a href=\"/xmlpages/page/2015-2016-en\">2015 - 2016</a></li><li><a href=\"/xmlpages/page/2014-2015-en\">2014 - 2015</a></li></ul></div></div></h2></div><div class=\"columns help\"><a href=\"/xmlpages/page/2022-2023-en/help\">Help<img src=\"/xmlpages/resources/TXP/uva/studiegidswebsite/img/help.png\" alt=\"Help\" width=\"15\" height=\"15\"/></a></div><div class=\"disclaimer\"><h3>Disclaimer Course Catalogue 2022-2023 </h3><p><strong>The contents of the online Course Catalogue of the University of Amsterdam have been written with the greatest possible care. However, some changes may be made in the near future as a result of, for example, changes in the law, changes in UvA regulations, governmental measures to limit the coronavirus outbreak, etc. Text adaptations resulting from such changes take precedence over the texts in this online Course Catalogue, and will be communicated as promptly as possible via Canvas.</strong></p></div></div></div></div></header><div class=\"container clearfix\"><div class=\"columns sixteen home-content\"><div class=\"content-tabs\"><div class=\"nav\"><ul id=\"tabs\"><li class=\"first selected \"><a href=\"/xmlpages/page/2022-2023-en/search-course\">Course</a></li><li class=\"\"><a href=\"/xmlpages/page/2022-2023-en/search-programme\">Programme</a></li><li class=\"\"><a href=\"/xmlpages/page/2022-2023-en/search-minor\">Minor</a></li><li class=\"\"><a href=\"/xmlpages/page/2022-2023-en/search-lecturer\">Lecturer</a></li></ul></div><div class=\"filler\"> </div></div><div class=\"eight columns\"><div class=\"inner-spacer\"><div class=\"search-box with-label\"><input type=\"hidden\" class=\"default\" name=\"shareable\" value=\"\"/><input type=\"hidden\" class=\"default\" name=\"cookie\" value=\"uva-sgw-course-search-en\"/><input type=\"hidden\" name=\"pagePath\" class=\"default skip-cookie force\" value=\"/xmlpages/page/2022-2023-en/search-course\"/><input type=\"hidden\" class=\"default\" name=\"loadpresets\" value=\"Y\"/><form action=\"/xmlpages/plspub/uva_tangelo.uva_search.courses_pls\" method=\"post\" class=\"search course\"><input type=\"hidden\" name=\"p_institute\" value=\"\"/><input type=\"hidden\" name=\"p_programme\" value=\"\"/><input type=\"hidden\" name=\"p_credits\" value=\"\"/><input type=\"hidden\" name=\"p_instr_lang\" value=\"\"/><input type=\"hidden\" name=\"p_open_course\" value=\"\"/><input type=\"hidden\" name=\"p_period_start\" value=\"\"/><input type=\"hidden\" class=\"default\" name=\"p_fetch_size\" value=\"20\"/><input type=\"hidden\" name=\"p_course_year\" value=\"\"/><input type=\"hidden\" class=\"default skip-cookie\" name=\"p_rsrcpath\" value=\"/xmlpages/resources/TXP/uva/studiegidswebsite/\"/><input type=\"hidden\" class=\"default\" name=\"p_page\" value=\"1\"/><input type=\"hidden\" class=\"default skip-cookie\" name=\"p_ctxparam\" value=\"/xmlpages/page/2022-2023-en/\"/><input type=\"hidden\" class=\"default skip-cookie\" name=\"p_searchpagetype\" value=\"courses\"/><input type=\"hidden\" class=\"default skip-cookie\" name=\"p_strip\" value=\"\"/><input type=\"hidden\" class=\"default skip-cookie\" name=\"p_site_lang\" value=\"en\"/><input type=\"hidden\" class=\"default skip-cookie\" name=\"p_site_year\" value=\"2022-2023\"/><input type=\"hidden\" class=\"default skip-cookie\" name=\"p_rsrcpath\" value=\"/xmlpages/resources/TXP/uva/studiegidswebsite/\"/><input type=\"hidden\" class=\"default\" name=\"p_search_inside\" value=\"\"/><label for=\"searchwords\"><span>Search course</span></label><input id=\"searchwords\" name=\"p_searchwords\" value=\"\" type=\"search\" autocomplete=\"off\" placeholder=\"Search...\"/><input id=\"dosearch\" type=\"submit\" value=\"Zoek\"/></form></div></div></div><div class=\"five columns hide-on-mobile\"><div class=\"inner-spacer display-with-form\"><ul class=\"filter\"><li><a href=\"#\" data-param=\"p_search_inside\" data-id=\"Y\">Search full text</a></li></ul></div></div><div class=\"three columns show-all\"><div class=\"inner-spacer\"><div class=\"display-with-form\"><img src=\"/xmlpages/resources/TXP/uva/studiegidswebsite/img/list_arrow.png\" alt=\"\" width=\"7\" height=\"11\" style=\"margin-bottom:1px\"/><a href=\"#\" class=\"search-all\">All courses</a></div></div></div></div></div><div class=\"hst-container\"><div class=\"hst-container-item\"><div id=\"search-results\" class=\"container equal-height clearfix\"><br/></div></div></div></div><footer><div class=\"container clearfix hide-on-mobile\"><div class=\"four columns\"><div class=\"inner-spacer\"><ul class=\"linklist\"><li><a href=\"http://www.uva.nl/en/education/bachelor-s/bachelor-s-programmes\">Bachelor\\'s programmes</a></li><li><a href=\"http://www.uva.nl/en/education/master-s/master-s-programmes\">Master\\'s programmes</a></li><li><a href=\"http://www.uva.nl/en/research/phd/why-do-a-phd-at-the-uva\">PhD at UvA</a></li><li><a href=\"http://www.uva.nl/en/research/research-at-the-uva/vision-on-research\">Research at UvA</a></li></ul></div></div><div class=\"four columns\"><div class=\"inner-spacer\"><ul class=\"linklist\"><li><a href=\"http://www.uvashop.nl/EN\">UvAshop</a></li><li><a href=\"http://student.uva.nl/en\">Current students</a></li><li><a href=\"http://www.uva.nl/en/education\">Prospective students</a></li></ul></div></div><div class=\"four columns\"><div class=\"inner-spacer\"><ul class=\"linklist\"><li><a href=\"http://www.uva.nl/en/contact/contact\">Contact</a></li><li><a href=\"http://www.uva.nl/en/about-the-uva/working-at-the-uva/vacancies\">Vacancies</a></li><li><a href=\"http://staff.uva.nl/extranet\">Extranet</a></li></ul></div></div><div class=\"four columns\"><div class=\"inner-spacer\"><ul class=\"linklist\"><li><a class=\"list-icon icon-rss\" href=\"http://www.uva.nl/en/news-events/news/uva-news/rss.xml\">UvA News</a></li><li><a class=\"list-icon icon-twitter\" href=\"http://twitter.com/UvA_Amsterdam\"> Follow UvA on Twitter</a></li><li><a class=\"list-icon icon-facebook\" href=\"http://www.facebook.com/UniversityofAmsterdam\"> Follow UvA on Facebook</a></li></ul></div></div></div><div class=\"container clearfix\"><div id=\"copyright\" class=\"sixteen columns\"><div class=\"inner-spacer\"><span style=\"margin-right: 15px;\">Copyright UvA 2014</span><a href=\"http://www.uva.nl/en/home/disclaimers/disclaimer\">Disclaimer</a><a href=\"http://www.uva.nl/en/home/disclaimers/cookies\">Cookies</a><a href=\"http://www.uva.nl/en/home/disclaimers/privacy\">Privacy</a></div></div></div></footer><script src=\"//ajax.googleapis.com/ajax/libs/jquery/1.11.0/jquery.min.js\"> </script><script src=\"/xmlpages/resources/TXP/uva/studiegidswebsite/js/jquery.cookie.js\"> </script><script src=\"/xmlpages/resources/TXP/uva/studiegidswebsite/js/main.fn.js\"> </script><script src=\"/xmlpages/resources/TXP/uva/studiegidswebsite/js/main.js\"> </script><noscript><iframe src=\"//www.googletagmanager.com/ns.html?id=GTM-PRXTF82\" height=\"0\" width=\"0\" style=\"display:none;visibility:hidden\"/></noscript><script>\\n\\t\\t\\t\\t\\t(function (w, d, s, l, i) {\\n\\t\\t        w[l] = w[l] || [];\\n\\t\\t        w[l].push({\\'gtm.start\\': new Date().getTime(), event: \\'gtm.js\\'});\\n\\t\\t        var f = d.getElementsByTagName(s)[0], j = d.createElement(s), dl = l != \\'dataLayer\\' ? \\'&amp;l=\\' + l : \\'\\';\\n\\t\\t        j.async = true;\\n\\t\\t        j.src = \\'//www.googletagmanager.com/gtm.js?id=\\' + i + dl;\\n\\t\\t        f.parentNode.insertBefore(j, f);\\n\\t\\t    })(window, document, \\'script\\', \\'dataLayer\\', \\'GTM-PRXTF82\\');\\n\\t\\t\\t\\t\\n\\t\\t\\t\\t</script></body></html>'\n"
     ]
    }
   ],
   "source": [
    "from bs4 import BeautifulSoup\n",
    "import re\n",
    "import pandas as pd\n",
    "import requests\n",
    "import numpy as np\n",
    "from math import ceil\n",
    "import sys\n",
    "\n",
    "\n",
    "url = 'https://studiegids.uva.nl/xmlpages/page/2022-2023-en/search-course'\n",
    "html = simple_get(url)\n",
    "dom = BeautifulSoup(html, 'html.parser')\n",
    "\n",
    "course_names = []\n",
    "\n",
    "all_names = dom.find_all('tr', class_ = 'result') #only course names\n",
    "\n",
    "for name in all_names:\n",
    "    course_names.append(one_entry.find('a', class_ = 'icon-arrow').text)\n",
    "\n",
    "\n",
    "print(all_names)\n",
    "    \n",
    "#all_slideouts = \n",
    "\n",
    "\n",
    "#def extract_courses: \n",
    "print(html)\n",
    "\n",
    "#ERROR: cannot access the correct html with this url"
   ]
  }
 ],
 "metadata": {
  "kernelspec": {
   "display_name": "Python 3 (ipykernel)",
   "language": "python",
   "name": "python3"
  },
  "language_info": {
   "codemirror_mode": {
    "name": "ipython",
    "version": 3
   },
   "file_extension": ".py",
   "mimetype": "text/x-python",
   "name": "python",
   "nbconvert_exporter": "python",
   "pygments_lexer": "ipython3",
   "version": "3.9.13"
  }
 },
 "nbformat": 4,
 "nbformat_minor": 5
}
