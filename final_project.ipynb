{
 "cells": [
  {
   "cell_type": "markdown",
   "id": "98a9a5d7",
   "metadata": {},
   "source": [
    "# Final project"
   ]
  },
  {
   "cell_type": "markdown",
   "id": "347c5e30",
   "metadata": {},
   "source": [
    "## Project title"
   ]
  },
  {
   "cell_type": "markdown",
   "id": "437cd6b6",
   "metadata": {},
   "source": [
    "Research Question: Which UvA courses do I meet the entry requirements for? XXX"
   ]
  },
  {
   "cell_type": "markdown",
   "id": "c70c7452",
   "metadata": {},
   "source": [
    "\n",
    "\n",
    "\n",
    "\n",
    "\n",
    "## Process Book"
   ]
  },
  {
   "cell_type": "markdown",
   "id": "6c909a7a",
   "metadata": {},
   "source": [
    "1. Don’t forget the process book. Maintain it every day you’ve worked on the project. This is the main way for \n",
    "   us to see what you’ve learned and is an important part of the evaluation.\n",
    "2. Don’t use it for everything. Don’t spend too much time on your process book! Ten minutes \n",
    "   every day you’ve worked on the project on this, should be more than enough.\n",
    "3. Keep it simple and short. Use simple language, short sentences, and be as straightforward as possible when \n",
    "   documenting your learning process.\n",
    "4. Create a simple template. In order to organize your process book, it is nice to create and use a template:\n"
   ]
  },
  {
   "cell_type": "markdown",
   "id": "fab0e988",
   "metadata": {},
   "source": [
    "### Date of entry: 25. Jan\n",
    "#### What I’ve worked on: \n",
    "Git\n",
    "- Lecture git\n",
    "- Tried out git by myself\n",
    "- Created git repository\n",
    "\n",
    "Project choice\n",
    "- Learn to use tableau and uber data as I am applying to intern at uber and tableau is a desired skill\n",
    "\n",
    "Tableau\n",
    "- Downloaded tableau \n",
    "- See what I can use tableau for to decide which project I want to do specifically\n",
    "- Learn tableau basics\n",
    "- Experiment with DP datasets (e.g., weather data) in tableau\n",
    "- Experiment with uber selection dataset --> too easy (?)\n",
    "    \n",
    "#### What problems I encountered:\n",
    "- Cannot use dataset I first thought about using\n",
    "\n",
    "#### What I learned:\n",
    "- How to use git\n",
    "- Tableau basics https://www.youtube.com/watch?v=jEgVto5QME8\n",
    "- I want to gather my own uber data e.g., through web-scraping, or API\n",
    "\n",
    "#### Which resources did I use:\n",
    "- Course material, YouTube, tableau, tableau user guide, uber data XXX\n",
    "\n",
    "\n",
    "\n",
    "\n",
    "### Date of entry: 26. Jan\n",
    "#### What I’ve worked on: \n",
    "Tableau\n",
    "- Learned more functions of tableau and experimented with these  \n",
    "\n",
    "Project\n",
    "- Created jupyter notebook\n",
    "- Started process book\n",
    "\n",
    "Brainstorm\n",
    "- Potentially make website with tableau dashboard\n",
    "- Which data can I use? \n",
    "\n",
    "Find data\n",
    "- Look for uber APIs\n",
    "\n",
    "#### What problems I encountered: \n",
    "- Uber APIs are not open, I can not use them \n",
    "\n",
    "#### What I learned: \n",
    "Tableau\n",
    "- Basic functions: https://www.youtube.com/watch?v=yejulE4b-3Y\n",
    "- Use and join (csv) files: https://www.youtube.com/watch?v=5WXrJ1JvTOo\n",
    "- Integrate tableau dashboard in website: https://www.youtube.com/watch?v=wJ2CHIJalNU\n",
    "\n",
    "#### Which resources did I use:\n",
    "- Course material, YouTube, tableau, tableau user guide\n",
    "\n",
    "\n",
    "\n",
    "### Date of entry: 27. Jan\n",
    "#### What I’ve worked on: \n",
    "- Find new project ideas\n",
    "- Decided for final topic/Question\n",
    "- Changed strategy for scraping data: work with individual course pages instead of course overview\n",
    "\n",
    "#### What problems I encountered: \n",
    "- Url of studiegids does not change per page of courses\n",
    "\n",
    "#### What I learned: \n",
    "\n",
    "#### Which resources did I use:\n",
    "- Multiple forms to try to solve the url problem, but didn't find a solution\n",
    "\n",
    "\n",
    "\n",
    "\n",
    "### Date of entry: 30. Jan\n",
    "#### What I’ve worked on: \n",
    "- Scraping course data\n",
    "\n",
    "#### What problems I encountered: \n",
    "- I cannot simply check whether a unique number-combination in the end of the link opens a specific course page by testing if the link is dead or not: if the number in the end doesn't link to a course it still opens the studigids page\n",
    "\n",
    "\n",
    "#### What I learned: \n",
    "- Scrape to dictionary XXX\n",
    "- Scrape with slideout website XXX\n",
    "\n",
    "#### Which resources did I use:"
   ]
  },
  {
   "cell_type": "markdown",
   "id": "cccfb7cb",
   "metadata": {},
   "source": [
    "## To-Do\n",
    "\n",
    "1. Scrape / Transform data \n",
    "2. Import data into tableau\n",
    "3. (Webpage with tableau dashboard)"
   ]
  },
  {
   "cell_type": "markdown",
   "id": "a3792a05",
   "metadata": {},
   "source": [
    "## 1. Data"
   ]
  },
  {
   "cell_type": "markdown",
   "id": "b23eecd3",
   "metadata": {},
   "source": [
    "Relevant personal data\n",
    "\n",
    "Programme: \"\"\n",
    "Level: Bachelor's, Master's (Master's, Master), Exchange programme ('Exchange Programme Exchange Programme UvA', 'Exchange Programme Exchange Programme'), pre-Master's programme, Secondary Subject/Bijvak('?'), 'Honours MSc', 'Research Master's\n",
    "Year of the studies: \"\"\n",
    "Credits obtained this/1st year: \"\"\n",
    "\n",
    "url: https://studiegids.uva.nl/xmlpages/page/2022-2023-en/search-course\n",
    "\n",
    "\n",
    "Relevant course information \n",
    "\n",
    "Course name: Course name\n",
    "Entry requirements: Course > Entry requirements > Split by sentence & look for keywords (if not present, add to dict with unknown entry requirements)\n",
    "Level: Course > Is part of > loop through Level list (s.a.) \n",
    "Field: Course > Is part of > remove Level > everything left \n",
    "(Coordinator name: Course > Lecturer(s) > Coordinator ('co-ordinator')\n",
    "(Coordinator email: Course > Lecturer(s) > Coordinator (crawl) > Email)\n"
   ]
  },
  {
   "cell_type": "code",
   "execution_count": 2,
   "id": "60938e7c",
   "metadata": {},
   "outputs": [],
   "source": [
    "from requests import get\n",
    "from requests.exceptions import RequestException\n",
    "from contextlib import closing\n",
    "\n",
    "from bs4 import BeautifulSoup\n",
    "import re\n",
    "import pandas as pd\n",
    "import requests\n",
    "import numpy as np\n",
    "from math import ceil\n",
    "import sys"
   ]
  },
  {
   "cell_type": "code",
   "execution_count": 3,
   "id": "26b99267",
   "metadata": {},
   "outputs": [],
   "source": [
    "#Prepare webscraping with BeautifulSoup\n",
    "\n",
    "def simple_get(url):\n",
    "    \"\"\"\n",
    "    Attempts to get the content at `url` by making an HTTP GET request.\n",
    "    If the content-type of response is some kind of HTML/XML, return the\n",
    "    text content, otherwise return None\n",
    "    \"\"\"\n",
    "    try:\n",
    "        headers = {\n",
    "            'User-Agent': 'Mozilla/5.0 (Windows NT 6.1; WOW64) AppleWebKit/537.36 (KHTML, like Gecko) Chrome/56.0.2924.76 Safari/537.36'\n",
    "        }\n",
    "        with closing(get(url, stream=True, headers=headers)) as resp:\n",
    "            if is_good_response(resp):\n",
    "                return resp.content\n",
    "            else:\n",
    "                return None\n",
    "    except RequestException as e:\n",
    "        print('The following error occurred during HTTP GET request to {0} : {1}'.format(url, str(e)))\n",
    "        return None\n",
    "\n",
    "\n",
    "def is_good_response(resp):\n",
    "    \"\"\"\n",
    "    Returns true if the response seems to be HTML, false otherwise\n",
    "    \"\"\"\n",
    "    content_type = resp.headers['Content-Type'].lower()\n",
    "    return (resp.status_code == 200\n",
    "            and content_type is not None\n",
    "            and content_type.find('html') > -1)"
   ]
  },
  {
   "cell_type": "markdown",
   "id": "5e7b3b86",
   "metadata": {},
   "source": [
    "- All courses have individual descriptions with unique urls\n",
    "- First, I will find all urls that link to courses by trying out urls\n",
    "- I can check whether I found all courses by comparing the length of my url list to the number or courses stated on the website\n",
    "- After that, I will loop through the urls that work and scrape the data for all courses"
   ]
  },
  {
   "cell_type": "code",
   "execution_count": 41,
   "id": "51fdabbc",
   "metadata": {},
   "outputs": [
    {
     "name": "stdout",
     "output_type": "stream",
     "text": [
      "[' Sharia and Halakha and the Modernization of Religious Law']\n"
     ]
    }
   ],
   "source": [
    "# Find one course name\n",
    "\n",
    "course_names = []\n",
    "\n",
    "url = 'https://studiegids.uva.nl/xmlpages/page/2022-2023-en/search-course/course/94537'\n",
    "html = simple_get(url)\n",
    "dom = BeautifulSoup(html, 'html.parser')\n",
    "\n",
    "name = dom.find('article', class_ = 'twelve columns').h1.text #removed unneccesary loop\n",
    "course_names.append(name)\n",
    "\n",
    "print(course_names)\n"
   ]
  },
  {
   "cell_type": "code",
   "execution_count": null,
   "id": "583d5235",
   "metadata": {},
   "outputs": [],
   "source": [
    "#Scrape name from urls that link to courses (subset of the data) \n",
    "# Resolved problem: check if a part of the website exists that only shows when the link opens a course website\n",
    "\n",
    "courses = {}\n",
    "unique_n = 94500\n",
    "    \n",
    "while unique_n < 94520:\n",
    "    url = f'https://studiegids.uva.nl/xmlpages/page/2022-2023-en/search-course/course/{unique_n}'\n",
    "    html = simple_get(url)\n",
    "    dom = BeautifulSoup(html, 'html.parser')\n",
    "    unique_n += 1\n",
    "    \n",
    "    if (dom.find('article', class_ = 'twelve columns')) is None:\n",
    "        #print('no course')\n",
    "        pass\n",
    "    else:\n",
    "        name = dom.find('article', class_ = 'twelve columns').h1.text\n",
    "        courses[name] = {}\n",
    "        #print(name)\n",
    "\n",
    "print(courses)\n",
    "\n",
    "''' \n",
    "#def extract_courses: \n",
    "print(html)\n",
    "'''"
   ]
  }
 ],
 "metadata": {
  "kernelspec": {
   "display_name": "Python 3 (ipykernel)",
   "language": "python",
   "name": "python3"
  },
  "language_info": {
   "codemirror_mode": {
    "name": "ipython",
    "version": 3
   },
   "file_extension": ".py",
   "mimetype": "text/x-python",
   "name": "python",
   "nbconvert_exporter": "python",
   "pygments_lexer": "ipython3",
   "version": "3.9.13"
  }
 },
 "nbformat": 4,
 "nbformat_minor": 5
}
