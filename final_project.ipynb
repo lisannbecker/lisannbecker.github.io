{
 "cells": [
  {
   "cell_type": "markdown",
   "id": "98a9a5d7",
   "metadata": {},
   "source": [
    "# Final project"
   ]
  },
  {
   "cell_type": "markdown",
   "id": "347c5e30",
   "metadata": {},
   "source": [
    "### Project title"
   ]
  },
  {
   "cell_type": "markdown",
   "id": "437cd6b6",
   "metadata": {},
   "source": [
    "Research Question:"
   ]
  },
  {
   "cell_type": "markdown",
   "id": "c70c7452",
   "metadata": {},
   "source": [
    "\n",
    "\n",
    "\n",
    "\n",
    "\n",
    "## Process Book"
   ]
  },
  {
   "cell_type": "markdown",
   "id": "6c909a7a",
   "metadata": {},
   "source": [
    "1. Don’t forget the process book. Maintain it every day you’ve worked on the project. This is the main way for \n",
    "   us to see what you’ve learned and is an important part of the evaluation.\n",
    "2. Don’t use it for everything. Don’t spend too much time on your process book! Ten minutes \n",
    "   every day you’ve worked on the project on this, should be more than enough.\n",
    "3. Keep it simple and short. Use simple language, short sentences, and be as straightforward as possible when \n",
    "   documenting your learning process.\n",
    "4. Create a simple template. In order to organize your process book, it is nice to create and use a template:\n",
    "\n",
    "Date of entry:\n",
    "What I’ve worked on:\n",
    "What problems I encountered:\n",
    "What I learned:\n",
    "Which resources did I use:"
   ]
  },
  {
   "cell_type": "markdown",
   "id": "fab0e988",
   "metadata": {},
   "source": [
    "Date of entry: 25. Jan\n",
    "What I’ve worked on: \n",
    "   Git\n",
    "    - Lecture git\n",
    "    - Tried out git by myself\n",
    "    - Created git repository\n",
    "    \n",
    "   Project choice\n",
    "    - Learn to use tableau and uber data as I am applying to intern at uber and tableau is a desired skill\n",
    "    \n",
    "   Tableau\n",
    "    - Downloaded tableau \n",
    "    - See what I can use tableau for to decide which project I want to do specifically\n",
    "    - Learn tableau basics\n",
    "    - Experiment with DP datasets (e.g., weather data) in tableau\n",
    "    - Experiment with uber selection dataset --> too easy (?)\n",
    "    \n",
    "What problems I encountered:\n",
    "    - Cannot use dataset I first thought about using\n",
    "    \n",
    "What I learned:\n",
    "    - How to use git\n",
    "    - Tableau basics https://www.youtube.com/watch?v=jEgVto5QME8\n",
    "    - I want to gather my own uber data e.g., through web-scraping, or API\n",
    "    \n",
    "Which resources did I use:\n",
    "    - Course material, YouTube, tableau, tableau user guide, uber data XXX\n",
    "\n",
    "\n",
    "\n",
    "\n",
    "Date of entry: 26. Jan\n",
    "What I’ve worked on: \n",
    "   Tableau\n",
    "    - Learned more functions of tableau and experimented with these  \n",
    "    \n",
    "   Project\n",
    "    - Created jupyter notebook\n",
    "    - Started process book\n",
    "    \n",
    "   Brainstorm\n",
    "    - Potentially make website with tableau dashboard\n",
    "    - Which data can I use? \n",
    "    \n",
    "   Find data\n",
    "    - Look for uber APIs\n",
    "\n",
    "What problems I encountered: \n",
    "    - Uber APIs are not open \n",
    "\n",
    "What I learned: \n",
    "   Tableau\n",
    "    - Basic functions: https://www.youtube.com/watch?v=yejulE4b-3Y\n",
    "    - Use and join (csv) files: https://www.youtube.com/watch?v=5WXrJ1JvTOo\n",
    "    - Integrate tableau dashboard in website: https://www.youtube.com/watch?v=wJ2CHIJalNU\n",
    "\n",
    "Which resources did I use:\n",
    "    - Course material, YouTube, tableau, tableau user guide\n"
   ]
  },
  {
   "cell_type": "code",
   "execution_count": null,
   "id": "4826764d",
   "metadata": {},
   "outputs": [],
   "source": [
    "    - Request access to uber Riders API https://developer.uber.com/docs/riders"
   ]
  }
 ],
 "metadata": {
  "kernelspec": {
   "display_name": "Python 3 (ipykernel)",
   "language": "python",
   "name": "python3"
  },
  "language_info": {
   "codemirror_mode": {
    "name": "ipython",
    "version": 3
   },
   "file_extension": ".py",
   "mimetype": "text/x-python",
   "name": "python",
   "nbconvert_exporter": "python",
   "pygments_lexer": "ipython3",
   "version": "3.9.13"
  }
 },
 "nbformat": 4,
 "nbformat_minor": 5
}
